{
  "nbformat": 4,
  "nbformat_minor": 0,
  "metadata": {
    "colab": {
      "name": "Task 3 NLP.ipynb",
      "provenance": [],
      "authorship_tag": "ABX9TyOmZdNjsO6i0DYEeDtKu5Xn",
      "include_colab_link": true
    },
    "kernelspec": {
      "name": "python3",
      "display_name": "Python 3"
    },
    "language_info": {
      "name": "python"
    }
  },
  "cells": [
    {
      "cell_type": "markdown",
      "metadata": {
        "id": "view-in-github",
        "colab_type": "text"
      },
      "source": [
        "<a href=\"https://colab.research.google.com/github/AyaEbrahim01/NLP3/blob/main/Task_3_NLP.ipynb\" target=\"_parent\"><img src=\"https://colab.research.google.com/assets/colab-badge.svg\" alt=\"Open In Colab\"/></a>"
      ]
    },
    {
      "cell_type": "markdown",
      "source": [
        "**Defining Min Edit Distance (Levenshtein) \"MED\"**"
      ],
      "metadata": {
        "id": "Wz3tkUzfg5JD"
      }
    },
    {
      "cell_type": "code",
      "source": [
        "def minimum_edit_distance(w2, w1):\n",
        "    arr = [[0 for j in range(len(w1) + 1)] for j in range(len(w2) + 1)]\n",
        "    steps = [[0 for j in range(len(w1) + 1)] for j in range(len(w2) + 1)]\n",
        "    for i in range(1, len(w2) + 1):\n",
        "        arr[i][0] = arr[i - 1][0] + 1\n",
        "        steps[i][0] = 1\n",
        "    for i in range(1, len(w1) + 1):\n",
        "        arr[0][i] = arr[0][i - 1] + 1\n",
        "        steps[0][i] = 2\n",
        "    for j in range(1, len(w1) + 1):\n",
        "        for i in range(1, len(w2) + 1):\n",
        "            insert = 1 + arr[i - 1][j]\n",
        "            delete = 1 + arr[i][j - 1]\n",
        "            if w1[j - 1] == w2[i - 1]:\n",
        "                add = 0\n",
        "            else:\n",
        "                add = 2\n",
        "            substitute = add + arr[i - 1][j - 1]\n",
        "            val = min(insert, delete, substitute)\n",
        "            arr[i][j] = val\n",
        "            if val == insert:\n",
        "                steps[i][j] = 1\n",
        "            elif val == delete:\n",
        "                steps[i][j] = 2\n",
        "            else:\n",
        "                steps[i][j] = 3\n",
        "\n",
        "    steps_arr = []\n",
        "    i = len(w2)\n",
        "    j = len(w1)\n",
        "    while i > 0 or j > 0:\n",
        "        if steps[i][j] == 3:\n",
        "            i -= 1\n",
        "            j -= 1\n",
        "            if w1[j] != w2[i]:\n",
        "                steps_arr.append(\"substitute \" + w1[j] + \", \" + w2[i])\n",
        "        elif steps[i][j] == 2:\n",
        "            j -= 1\n",
        "            steps_arr.append(\"insert \" + w1[j])\n",
        "        elif steps[i][j] == 1:\n",
        "            i -= 1\n",
        "            steps_arr.append(\"delete \" + w2[i])\n",
        "        else:\n",
        "            print(\"error\")\n",
        "\n",
        "    for i in range(len(steps_arr) - 1, -1, -1):\n",
        "        print(steps_arr[i])\n",
        "\n",
        "    return arr[len(w2)][len(w1)]\n",
        "\n",
        "\n",
        "w1 = \"component\"\n",
        "w2 = \"opponent\"\n",
        "print(\"\\nedit distance for\", w1, \"to\", w2, \"\\ncost:\", minimum_edit_distance(\"iterate\", \"initial\"))"
      ],
      "metadata": {
        "colab": {
          "base_uri": "https://localhost:8080/"
        },
        "id": "2FmkVSdRgTl9",
        "outputId": "208733d8-cd3d-429f-936b-c08b828d4a28"
      },
      "execution_count": null,
      "outputs": [
        {
          "output_type": "stream",
          "name": "stdout",
          "text": [
            "insert n\n",
            "insert i\n",
            "insert i\n",
            "delete e\n",
            "delete r\n",
            "insert l\n",
            "delete t\n",
            "delete e\n",
            "\n",
            "edit distance for component to opponent \n",
            "cost: 8\n"
          ]
        }
      ]
    },
    {
      "cell_type": "code",
      "source": [
        ""
      ],
      "metadata": {
        "id": "LubglgvVgmnS"
      },
      "execution_count": null,
      "outputs": []
    }
  ]
}